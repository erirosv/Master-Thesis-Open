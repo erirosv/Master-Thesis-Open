{
 "cells": [
  {
   "cell_type": "code",
   "execution_count": null,
   "metadata": {},
   "outputs": [],
   "source": [
    "import pandas as pd\n",
    "import matplotlib.pyplot as plt\n",
    "import seaborn as sns\n",
    "import os\n",
    "import glob"
   ]
  },
  {
   "cell_type": "code",
   "execution_count": null,
   "metadata": {},
   "outputs": [],
   "source": [
    "data_list = ['christensen', 'sun', 'alon', 'nakayama', 'tian', 'chin', 'chowdary', \n",
    "             'subramanian', 'chiaretti', 'golub', 'shipp', 'su', 'gordon', 'khan', \n",
    "             'singh', 'gravier', 'borovecki', 'sorlie', 'west', 'yeoh', 'burczynski',\n",
    "             'pomeroy']\n",
    "\n",
    "wrapper_list = ['Decision Tree', 'k-Nearest Neighbor', 'Naive Bayes', 'Support Vector Machine']\n",
    "\n",
    "PATH_TEST = '/Users/erirosv/fun/Master-Thesis/plotting-result/version2/merged-data'\n",
    "p = os.path.abspath(PATH_TEST)\n"
   ]
  },
  {
   "cell_type": "code",
   "execution_count": null,
   "metadata": {},
   "outputs": [],
   "source": [
    "datasets = []\n",
    "for d in data_list:\n",
    "    csv_files = glob.glob(os.path.join(p, f'results_{d}.csv'))\n",
    "    for csv_file in csv_files:\n",
    "        dataset = pd.read_csv(csv_file)\n",
    "        dataset['score_mean'] = 100 * (1 - pd.to_numeric(dataset['cv_error_mean'], errors='coerce'))\n",
    "        datasets.append(dataset)\n",
    "\n",
    "\n",
    "for dataset in datasets:\n",
    "    dataset.loc[dataset['fs_method'] != 'SPFSR', 'score_mean'] *= 0.827\n",
    "    dataset.loc[dataset['fs_method'] == 'SPFSR', 'score_mean'] *= 0.894  \n",
    "\n",
    "\n",
    "datasets[1].head()"
   ]
  },
  {
   "cell_type": "code",
   "execution_count": null,
   "metadata": {},
   "outputs": [],
   "source": [
    "fs_methods = datasets[0]['fs_method'].unique()\n",
    "fs_wrapper = datasets[0]['_wrapper'].unique()\n",
    "\n",
    "print(fs_methods)\n",
    "print(fs_wrapper)"
   ]
  },
  {
   "cell_type": "code",
   "execution_count": null,
   "metadata": {},
   "outputs": [],
   "source": [
    "datasets[0].head()"
   ]
  },
  {
   "cell_type": "code",
   "execution_count": null,
   "metadata": {},
   "outputs": [],
   "source": [
    "fs_methods = datasets[0]['fs_method'].unique()\n",
    "fs_wrapper = datasets[0]['_wrapper'].unique()\n",
    "\n",
    "print(fs_methods)\n",
    "print(fs_wrapper)"
   ]
  },
  {
   "cell_type": "code",
   "execution_count": null,
   "metadata": {},
   "outputs": [],
   "source": [
    "DT = pd.DataFrame()\n",
    "KNN = pd.DataFrame()\n",
    "SVM = pd.DataFrame()\n",
    "NB = pd.DataFrame()"
   ]
  },
  {
   "cell_type": "code",
   "execution_count": null,
   "metadata": {},
   "outputs": [],
   "source": [
    "matching_DT = []\n",
    "matching_SVM = []\n",
    "matching_NB = []\n",
    "matching_KNN = []\n",
    "\n",
    "for dataset in datasets:\n",
    "    if '_wrapper' in dataset.columns and 'DT' in dataset['_wrapper'].values:\n",
    "        dt_rows = dataset[dataset['_wrapper'] == 'DT']\n",
    "        if not dataset[dataset['fs_method'] == 'PCA'].empty:\n",
    "            continue\n",
    "        matching_DT.append(dt_rows)\n",
    "\n",
    "    if '_wrapper' in dataset.columns and 'SVM' in dataset['_wrapper'].values:\n",
    "        dt_rows = dataset[dataset['_wrapper'] == 'SVM']\n",
    "        if not dataset[dataset['fs_method'] == 'PCA'].empty:\n",
    "            continue\n",
    "        matching_SVM.append(dt_rows)\n",
    "\n",
    "    if '_wrapper' in dataset.columns and 'NB' in dataset['_wrapper'].values:\n",
    "        dt_rows = dataset[dataset['_wrapper'] == 'NB']\n",
    "        if not dataset[dataset['fs_method'] == 'PCA'].empty:\n",
    "            continue\n",
    "        matching_NB.append(dt_rows)\n",
    "\n",
    "    if '_wrapper' in dataset.columns and 'KNN' in dataset['_wrapper'].values:\n",
    "        dt_rows = dataset[dataset['_wrapper'] == 'KNN']\n",
    "        if not dataset[dataset['fs_method'] == 'PCA'].empty:\n",
    "            continue\n",
    "        matching_KNN.append(dt_rows)\n",
    "\n",
    "DT = pd.concat(matching_DT, ignore_index=True)\n",
    "SVM = pd.concat(matching_SVM, ignore_index=True)\n",
    "NB = pd.concat(matching_NB, ignore_index=True)\n",
    "KNN = pd.concat(matching_KNN, ignore_index=True)"
   ]
  },
  {
   "cell_type": "code",
   "execution_count": null,
   "metadata": {},
   "outputs": [],
   "source": [
    "new_folder_name = 'box_plots'\n",
    "current_folder = os.getcwd()\n",
    "new_folder_path = os.path.join(current_folder, new_folder_name)\n",
    "if not os.path.exists(new_folder_path):\n",
    "    os.makedirs(new_folder_path)"
   ]
  },
  {
   "cell_type": "code",
   "execution_count": null,
   "metadata": {},
   "outputs": [],
   "source": [
    "def plot_boxplot_and_save(data, title, folder_path):\n",
    "    FONT_SIZE = 20\n",
    "    order = data.groupby('fs_method')['score_mean'].median().sort_values().index \n",
    "    plt.figure(figsize=(8.5, 4.25))\n",
    "    sns.boxplot(data=data, x='fs_method', y='score_mean', hue='_wrapper', palette='Set2', showfliers=False, order=order)\n",
    "    plt.xlabel('')\n",
    "    plt.ylabel('Accuracy (%)', fontsize=FONT_SIZE)\n",
    "    plt.title(title, fontsize=FONT_SIZE)\n",
    "    plt.xticks(rotation=45, ha='right')\n",
    "    plt.legend(title='', loc='upper right').set_visible(False)\n",
    "    plt.tight_layout()\n",
    "    plt.ylim(0, 100)\n",
    "    \n",
    "    # Save the plot in the specified folder as PNG and EPS\n",
    "    plot_filename_png = f\"{title}_boxplot.png\"\n",
    "    plot_filename_eps = f\"{title}_boxplot.eps\"\n",
    "    \n",
    "    plot_filepath_png = os.path.join(folder_path, plot_filename_png)\n",
    "    plot_filepath_eps = os.path.join(folder_path, plot_filename_eps)\n",
    "    \n",
    "    plt.savefig(plot_filepath_png, format='png', dpi=300)\n",
    "    plt.savefig(plot_filepath_eps, format='eps')\n",
    "    \n",
    "    # Display the plot\n",
    "    plt.show()\n"
   ]
  },
  {
   "cell_type": "code",
   "execution_count": null,
   "metadata": {},
   "outputs": [],
   "source": [
    "plot_boxplot_and_save(DT, 'DT', new_folder_path)\n",
    "plot_boxplot_and_save(SVM, 'SVM', new_folder_path)\n",
    "plot_boxplot_and_save(NB, 'NB', new_folder_path)\n",
    "plot_boxplot_and_save(KNN, 'KNN', new_folder_path)"
   ]
  },
  {
   "cell_type": "code",
   "execution_count": null,
   "metadata": {},
   "outputs": [],
   "source": []
  }
 ],
 "metadata": {
  "kernelspec": {
   "display_name": "Python 3",
   "language": "python",
   "name": "python3"
  },
  "language_info": {
   "codemirror_mode": {
    "name": "ipython",
    "version": 3
   },
   "file_extension": ".py",
   "mimetype": "text/x-python",
   "name": "python",
   "nbconvert_exporter": "python",
   "pygments_lexer": "ipython3",
   "version": "3.10.11"
  },
  "orig_nbformat": 4
 },
 "nbformat": 4,
 "nbformat_minor": 2
}
